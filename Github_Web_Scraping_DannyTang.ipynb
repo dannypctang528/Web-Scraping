{
  "cells": [
    {
      "cell_type": "markdown",
      "metadata": {
        "id": "g0CQC48xgVI1"
      },
      "source": [
        "# **Web Scraping**\n"
      ]
    },
    {
      "cell_type": "markdown",
      "metadata": {
        "id": "HiPUfLNNgVI4"
      },
      "source": [
        "## Objectives\n"
      ]
    },
    {
      "cell_type": "markdown",
      "metadata": {
        "id": "5-9NUjf7gVI6"
      },
      "source": [
        "In this project you will perform the following:\n"
      ]
    },
    {
      "cell_type": "markdown",
      "metadata": {
        "id": "pBdNlTm1gVI8"
      },
      "source": [
        "* Extract information from a given web site\n",
        "* Write the scraped data into a csv file.\n"
      ]
    },
    {
      "cell_type": "markdown",
      "metadata": {
        "id": "4J9vsr-7gVI_"
      },
      "source": [
        "## Extract information from the given web site\n",
        "You will extract the data from the below web site: <br>\n"
      ]
    },
    {
      "cell_type": "code",
      "execution_count": 1,
      "metadata": {
        "id": "EKD8AatagVJB"
      },
      "outputs": [],
      "source": [
        "# This url contains the data you need to scrape\n",
        "url = \"https://cf-courses-data.s3.us.cloud-object-storage.appdomain.cloud/IBM-DA0321EN-SkillsNetwork/labs/datasets/Programming_Languages.html\""
      ]
    },
    {
      "cell_type": "markdown",
      "metadata": {
        "id": "0ClPobLmgVJF"
      },
      "source": [
        "The data you need to scrape is the **name of the programming language** and **average annual salary**.<br> It is a good idea to open the url in your web broswer and study the contents of the web page before you start to scrape.\n"
      ]
    },
    {
      "cell_type": "code",
      "execution_count": 2,
      "metadata": {
        "id": "4U-RckmfgVJI"
      },
      "outputs": [],
      "source": [
        "# Import the required libraries\n",
        "\n",
        "from bs4 import BeautifulSoup # this module helps in web scrapping.\n",
        "import requests  # this module helps us to download a webpage\n",
        "import pandas as pd"
      ]
    },
    {
      "cell_type": "code",
      "execution_count": 3,
      "metadata": {
        "id": "JAXjE5mGgVJK"
      },
      "outputs": [],
      "source": [
        "# Download the webpage\n",
        "data  = requests.get(url).text"
      ]
    },
    {
      "cell_type": "code",
      "execution_count": 4,
      "metadata": {
        "id": "Um7MWyn4gVJM"
      },
      "outputs": [],
      "source": [
        "# Create object - soup\n",
        "soup = BeautifulSoup(data,\"html.parser\")"
      ]
    },
    {
      "cell_type": "code",
      "source": [
        "# Find a html table in the web page\n",
        "table = soup.find('table')\n",
        "\n",
        "# Verify the data\n",
        "print(table)"
      ],
      "metadata": {
        "colab": {
          "base_uri": "https://localhost:8080/"
        },
        "id": "K1uKBRQTjcFz",
        "outputId": "1cc90904-7864-401c-b9ad-8e88bce6205d"
      },
      "execution_count": 5,
      "outputs": [
        {
          "output_type": "stream",
          "name": "stdout",
          "text": [
            "<table>\n",
            "<tbody>\n",
            "<tr>\n",
            "<td>No.</td>\n",
            "<td>Language</td>\n",
            "<td>Created By</td>\n",
            "<td>Average Annual Salary</td>\n",
            "<td>Learning Difficulty</td>\n",
            "</tr>\n",
            "<tr>\n",
            "<td>1</td>\n",
            "<td>Python</td>\n",
            "<td>Guido van Rossum</td>\n",
            "<td>$114,383</td>\n",
            "<td>Easy</td>\n",
            "</tr>\n",
            "<tr>\n",
            "<td>2</td>\n",
            "<td>Java</td>\n",
            "<td>James Gosling</td>\n",
            "<td>$101,013</td>\n",
            "<td>Easy</td>\n",
            "</tr>\n",
            "<tr>\n",
            "<td>3</td>\n",
            "<td>R</td>\n",
            "<td>Robert Gentleman, Ross Ihaka</td>\n",
            "<td>$92,037</td>\n",
            "<td>Hard</td>\n",
            "</tr>\n",
            "<tr>\n",
            "<td>4</td>\n",
            "<td>Javascript</td>\n",
            "<td>Netscape</td>\n",
            "<td>$110,981</td>\n",
            "<td>Easy</td>\n",
            "</tr>\n",
            "<tr>\n",
            "<td>5</td>\n",
            "<td>Swift</td>\n",
            "<td>Apple</td>\n",
            "<td>$130,801</td>\n",
            "<td>Easy</td>\n",
            "</tr>\n",
            "<tr>\n",
            "<td>6</td>\n",
            "<td>C++</td>\n",
            "<td>Bjarne Stroustrup</td>\n",
            "<td>$113,865</td>\n",
            "<td>Hard</td>\n",
            "</tr>\n",
            "<tr>\n",
            "<td>7</td>\n",
            "<td>C#</td>\n",
            "<td>Microsoft</td>\n",
            "<td>$88,726</td>\n",
            "<td>Hard</td>\n",
            "</tr>\n",
            "<tr>\n",
            "<td>8</td>\n",
            "<td>PHP</td>\n",
            "<td>Rasmus Lerdorf</td>\n",
            "<td>$84,727</td>\n",
            "<td>Easy</td>\n",
            "</tr>\n",
            "<tr>\n",
            "<td>9</td>\n",
            "<td>SQL</td>\n",
            "<td>Donald D. Chamberlin, Raymond F. Boyce.</td>\n",
            "<td>$84,793</td>\n",
            "<td>Easy</td>\n",
            "</tr>\n",
            "<tr>\n",
            "<td>10</td>\n",
            "<td>Go</td>\n",
            "<td>Robert Griesemer, Ken Thompson, Rob Pike.</td>\n",
            "<td>$94,082</td>\n",
            "<td>Difficult</td>\n",
            "</tr>\n",
            "</tbody>\n",
            "</table>\n"
          ]
        }
      ]
    },
    {
      "cell_type": "code",
      "execution_count": 6,
      "metadata": {
        "colab": {
          "base_uri": "https://localhost:8080/"
        },
        "id": "G0PbfjMQgVJO",
        "outputId": "4debe222-d2d7-4619-a0c3-d97eb69f60d7"
      },
      "outputs": [
        {
          "output_type": "stream",
          "name": "stdout",
          "text": [
            "Language,Average Annual Salary\n",
            "Python,114383\n",
            "Java,101013\n",
            "R,92037\n",
            "Javascript,110981\n",
            "Swift,130801\n",
            "C++,113865\n",
            "C#,88726\n",
            "PHP,84727\n",
            "SQL,84793\n",
            "Go,94082\n"
          ]
        }
      ],
      "source": [
        "# Scrape the `Language name` and `annual average salary`.\n",
        "\n",
        "for row in table.find_all('tr'): # in html table row is represented by the tag <tr>\n",
        "    # Get all columns in each row.\n",
        "    cols = row.find_all('td') # in html a column is represented by the tag <td>\n",
        "    Language = cols[1].getText() # store the value in column 3 as color_name\n",
        "    AvgAS = cols[3].getText().replace(\",\",\"\").replace(\"$\",\"\") # store the value in column 4 as color_code\n",
        "    print(\"{},{}\".format(Language,AvgAS))"
      ]
    },
    {
      "cell_type": "code",
      "execution_count": 7,
      "metadata": {
        "colab": {
          "base_uri": "https://localhost:8080/"
        },
        "id": "eL6gs8BUgVJQ",
        "outputId": "63ca5b0d-72d2-4003-f5c7-c364e79dbdb1"
      },
      "outputs": [
        {
          "output_type": "stream",
          "name": "stdout",
          "text": [
            "CSV file saved successfully: popular-languages.csv\n"
          ]
        }
      ],
      "source": [
        "# Save the scrapped data (Language, Average Annual Salary) into a file named popular-languages.csv\n",
        "file = open(\"popular-languages.csv\", \"w\")\n",
        "for row in table.find_all('tr'): # in html table row is represented by the tag <tr>\n",
        "    # Get all columns in each row.\n",
        "    cols = row.find_all('td') # in html a column is represented by the tag <td>\n",
        "    Language = cols[1].getText() # store the value in column 3 as color_name\n",
        "    AvgAS = cols[3].getText().replace(\",\",\"\").replace(\"$\",\"\") # store the value in column 4 as color_code\n",
        "    file.write(\"{}, {}\\n\".format(Language,AvgAS))\n",
        "file.close()\n",
        "\n",
        "print(f\"CSV file saved successfully:\", file.name)"
      ]
    },
    {
      "cell_type": "markdown",
      "metadata": {
        "id": "1y0qQ9BagVJR"
      },
      "source": [
        "## Authors\n"
      ]
    },
    {
      "cell_type": "markdown",
      "metadata": {
        "id": "qpa6Gd5mgVJR"
      },
      "source": [
        "Ramesh Sannareddy\n"
      ]
    },
    {
      "cell_type": "markdown",
      "metadata": {
        "id": "ivgL6PRCgVJS"
      },
      "source": [
        "### Other Contributors\n"
      ]
    },
    {
      "cell_type": "markdown",
      "metadata": {
        "id": "GXnqPn25gVJS"
      },
      "source": [
        "Rav Ahuja\n"
      ]
    },
    {
      "cell_type": "markdown",
      "source": [
        "**Danny Tang (Code implemented by Danny Tang, based on provided instructions)**\n"
      ],
      "metadata": {
        "id": "EubEktok7tw7"
      }
    },
    {
      "cell_type": "markdown",
      "metadata": {
        "id": "nfxn2Rg6gVJU"
      },
      "source": [
        " Copyright &copy; 2020 IBM Corporation. This notebook and its source code are released under the terms of the [MIT License](https://cognitiveclass.ai/mit-license/?utm_medium=Exinfluencer&utm_source=Exinfluencer&utm_content=000026UJ&utm_term=10006555&utm_id=NA-SkillsNetwork-Channel-SkillsNetworkCoursesIBMDA0321ENSkillsNetwork928-2022-01-01).\n"
      ]
    }
  ],
  "metadata": {
    "kernelspec": {
      "display_name": "Python",
      "language": "python",
      "name": "conda-env-python-py"
    },
    "language_info": {
      "codemirror_mode": {
        "name": "ipython",
        "version": 3
      },
      "file_extension": ".py",
      "mimetype": "text/x-python",
      "name": "python",
      "nbconvert_exporter": "python",
      "pygments_lexer": "ipython3",
      "version": "3.7.12"
    },
    "colab": {
      "provenance": []
    }
  },
  "nbformat": 4,
  "nbformat_minor": 0
}