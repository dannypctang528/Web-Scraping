{
  "cells": [
    {
      "cell_type": "markdown",
      "metadata": {
        "id": "g0CQC48xgVI1"
      },
      "source": [
        "# **Web Scraping**\n"
      ]
    },
    {
      "cell_type": "markdown",
      "metadata": {
        "id": "HiPUfLNNgVI4"
      },
      "source": [
        "## Objectives\n"
      ]
    },
    {
      "cell_type": "markdown",
      "metadata": {
        "id": "5-9NUjf7gVI6"
      },
      "source": [
        "In this project you will perform the following:\n"
      ]
    },
    {
      "cell_type": "markdown",
      "metadata": {
        "id": "pBdNlTm1gVI8"
      },
      "source": [
        "* Extract information from a given web site\n",
        "* Write the scraped data into a csv file.\n"
      ]
    },
    {
      "cell_type": "markdown",
      "metadata": {
        "id": "4J9vsr-7gVI_"
      },
      "source": [
        "## Extract information from the given web site\n",
        "You will extract the data from the below web site: <br>\n"
      ]
    },
    {
      "cell_type": "code",
      "execution_count": 8,
      "metadata": {
        "id": "EKD8AatagVJB"
      },
      "outputs": [],
      "source": [
        "# This url contains the data you need to scrape\n",
        "url = \"https://cf-courses-data.s3.us.cloud-object-storage.appdomain.cloud/IBM-DA0321EN-SkillsNetwork/labs/datasets/Programming_Languages.html\""
      ]
    },
    {
      "cell_type": "markdown",
      "metadata": {
        "id": "0ClPobLmgVJF"
      },
      "source": [
        "The data you need to scrape is the **name of the programming language** and **average annual salary**.<br> It is a good idea to open the url in your web broswer and study the contents of the web page before you start to scrape.\n"
      ]
    },
    {
      "cell_type": "code",
      "execution_count": 9,
      "metadata": {
        "id": "4U-RckmfgVJI"
      },
      "outputs": [],
      "source": [
        "# Import the required libraries\n",
        "\n",
        "from bs4 import BeautifulSoup # this module helps in web scrapping.\n",
        "import requests  # this module helps us to download a webpage\n",
        "import pandas as pd"
      ]
    },
    {
      "cell_type": "code",
      "execution_count": 10,
      "metadata": {
        "id": "JAXjE5mGgVJK"
      },
      "outputs": [],
      "source": [
        "# Download the webpage\n",
        "data  = requests.get(url).text"
      ]
    },
    {
      "cell_type": "code",
      "execution_count": 11,
      "metadata": {
        "id": "Um7MWyn4gVJM"
      },
      "outputs": [],
      "source": [
        "# Create object - soup\n",
        "soup = BeautifulSoup(data,\"html.parser\")"
      ]
    },
    {
      "cell_type": "code",
      "source": [
        "# Find a html table in the web page\n",
        "table = soup.find('table')\n",
        "\n",
        "# Verify the data\n",
        "print(table)"
      ],
      "metadata": {
        "colab": {
          "base_uri": "https://localhost:8080/"
        },
        "id": "K1uKBRQTjcFz",
        "outputId": "6fab63ef-991a-48bb-bff1-95a7931cf581"
      },
      "execution_count": 12,
      "outputs": [
        {
          "output_type": "stream",
          "name": "stdout",
          "text": [
            "<table>\n",
            "<tbody>\n",
            "<tr>\n",
            "<td>No.</td>\n",
            "<td>Language</td>\n",
            "<td>Created By</td>\n",
            "<td>Average Annual Salary</td>\n",
            "<td>Learning Difficulty</td>\n",
            "</tr>\n",
            "<tr>\n",
            "<td>1</td>\n",
            "<td>Python</td>\n",
            "<td>Guido van Rossum</td>\n",
            "<td>$114,383</td>\n",
            "<td>Easy</td>\n",
            "</tr>\n",
            "<tr>\n",
            "<td>2</td>\n",
            "<td>Java</td>\n",
            "<td>James Gosling</td>\n",
            "<td>$101,013</td>\n",
            "<td>Easy</td>\n",
            "</tr>\n",
            "<tr>\n",
            "<td>3</td>\n",
            "<td>R</td>\n",
            "<td>Robert Gentleman, Ross Ihaka</td>\n",
            "<td>$92,037</td>\n",
            "<td>Hard</td>\n",
            "</tr>\n",
            "<tr>\n",
            "<td>4</td>\n",
            "<td>Javascript</td>\n",
            "<td>Netscape</td>\n",
            "<td>$110,981</td>\n",
            "<td>Easy</td>\n",
            "</tr>\n",
            "<tr>\n",
            "<td>5</td>\n",
            "<td>Swift</td>\n",
            "<td>Apple</td>\n",
            "<td>$130,801</td>\n",
            "<td>Easy</td>\n",
            "</tr>\n",
            "<tr>\n",
            "<td>6</td>\n",
            "<td>C++</td>\n",
            "<td>Bjarne Stroustrup</td>\n",
            "<td>$113,865</td>\n",
            "<td>Hard</td>\n",
            "</tr>\n",
            "<tr>\n",
            "<td>7</td>\n",
            "<td>C#</td>\n",
            "<td>Microsoft</td>\n",
            "<td>$88,726</td>\n",
            "<td>Hard</td>\n",
            "</tr>\n",
            "<tr>\n",
            "<td>8</td>\n",
            "<td>PHP</td>\n",
            "<td>Rasmus Lerdorf</td>\n",
            "<td>$84,727</td>\n",
            "<td>Easy</td>\n",
            "</tr>\n",
            "<tr>\n",
            "<td>9</td>\n",
            "<td>SQL</td>\n",
            "<td>Donald D. Chamberlin, Raymond F. Boyce.</td>\n",
            "<td>$84,793</td>\n",
            "<td>Easy</td>\n",
            "</tr>\n",
            "<tr>\n",
            "<td>10</td>\n",
            "<td>Go</td>\n",
            "<td>Robert Griesemer, Ken Thompson, Rob Pike.</td>\n",
            "<td>$94,082</td>\n",
            "<td>Difficult</td>\n",
            "</tr>\n",
            "</tbody>\n",
            "</table>\n"
          ]
        }
      ]
    },
    {
      "cell_type": "code",
      "source": [
        "# Extract Language and Average Annual Salary, store into df\n",
        "\n",
        "import pandas as pd\n",
        "\n",
        "data = []\n",
        "for row in table.find_all('tr'):\n",
        "    cols = row.find_all('td')\n",
        "    if len(cols) >= 4:  # ensure the row has enough columns\n",
        "        language = cols[1].getText().strip()\n",
        "        avg_salary = cols[3].getText().replace(\",\", \"\").replace(\"$\", \"\").strip()\n",
        "        data.append([language, avg_salary])\n",
        "\n",
        "# Create DataFrame\n",
        "df = pd.DataFrame(data, columns=[\"Language\", \"Average Annual Salary\"])\n",
        "df = df.drop(0)\n",
        "print(df)"
      ],
      "metadata": {
        "colab": {
          "base_uri": "https://localhost:8080/"
        },
        "id": "WfIYBfbDPtkx",
        "outputId": "a31f79fb-b180-4630-c21b-88bdf1be83b0"
      },
      "execution_count": 23,
      "outputs": [
        {
          "output_type": "stream",
          "name": "stdout",
          "text": [
            "      Language Average Annual Salary\n",
            "1       Python                114383\n",
            "2         Java                101013\n",
            "3            R                 92037\n",
            "4   Javascript                110981\n",
            "5        Swift                130801\n",
            "6          C++                113865\n",
            "7           C#                 88726\n",
            "8          PHP                 84727\n",
            "9          SQL                 84793\n",
            "10          Go                 94082\n"
          ]
        }
      ]
    },
    {
      "cell_type": "code",
      "source": [
        "# Save to CSV\n",
        "df.to_csv(\"popular-languages.csv\", index=True)\n",
        "print(\"CSV file saved successfully as 'popular-languages.csv'\")"
      ],
      "metadata": {
        "colab": {
          "base_uri": "https://localhost:8080/"
        },
        "id": "QVr9a8DHPtYL",
        "outputId": "6be8e7f9-7f29-4082-abea-f17b0e8596ce"
      },
      "execution_count": 24,
      "outputs": [
        {
          "output_type": "stream",
          "name": "stdout",
          "text": [
            "CSV file saved successfully as 'popular-languages.csv'\n"
          ]
        }
      ]
    },
    {
      "cell_type": "markdown",
      "metadata": {
        "id": "1y0qQ9BagVJR"
      },
      "source": [
        "## Authors\n"
      ]
    },
    {
      "cell_type": "markdown",
      "metadata": {
        "id": "qpa6Gd5mgVJR"
      },
      "source": [
        "Ramesh Sannareddy\n"
      ]
    },
    {
      "cell_type": "markdown",
      "metadata": {
        "id": "ivgL6PRCgVJS"
      },
      "source": [
        "### Other Contributors\n"
      ]
    },
    {
      "cell_type": "markdown",
      "metadata": {
        "id": "GXnqPn25gVJS"
      },
      "source": [
        "Rav Ahuja\n"
      ]
    },
    {
      "cell_type": "markdown",
      "source": [
        "**Danny Tang (Code implemented by Danny Tang, based on provided instructions)**\n"
      ],
      "metadata": {
        "id": "EubEktok7tw7"
      }
    },
    {
      "cell_type": "markdown",
      "metadata": {
        "id": "nfxn2Rg6gVJU"
      },
      "source": [
        " Copyright &copy; 2020 IBM Corporation. This notebook and its source code are released under the terms of the [MIT License](https://cognitiveclass.ai/mit-license/?utm_medium=Exinfluencer&utm_source=Exinfluencer&utm_content=000026UJ&utm_term=10006555&utm_id=NA-SkillsNetwork-Channel-SkillsNetworkCoursesIBMDA0321ENSkillsNetwork928-2022-01-01).\n"
      ]
    }
  ],
  "metadata": {
    "kernelspec": {
      "display_name": "Python",
      "language": "python",
      "name": "conda-env-python-py"
    },
    "language_info": {
      "codemirror_mode": {
        "name": "ipython",
        "version": 3
      },
      "file_extension": ".py",
      "mimetype": "text/x-python",
      "name": "python",
      "nbconvert_exporter": "python",
      "pygments_lexer": "ipython3",
      "version": "3.7.12"
    },
    "colab": {
      "provenance": []
    }
  },
  "nbformat": 4,
  "nbformat_minor": 0
}